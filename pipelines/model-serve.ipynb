{
 "cells": [
  {
   "cell_type": "code",
   "execution_count": null,
   "id": "9b2f86f7-bb60-4ff8-abb7-6d51dd3d6dd4",
   "metadata": {
    "tags": []
   },
   "outputs": [],
   "source": [
    "!pip install huggingface_hub\n",
    "!pip install caikit_nlp\n",
    "!pip install boto3\n",
    "!pip install botocore"
   ]
  },
  {
   "cell_type": "code",
   "execution_count": 1,
   "id": "e8e4b4ac-6938-4fae-95d9-0973069f808e",
   "metadata": {
    "tags": []
   },
   "outputs": [
    {
     "name": "stderr",
     "output_type": "stream",
     "text": [
      "<function register_backend_type at 0x7f178947df70> is still in the BETA phase and subject to change!\n"
     ]
    }
   ],
   "source": [
    "from download_model import download_model_hf\n",
    "from convert_cai import convert\n",
    "from upload_s3 import upload_directory_to_s3"
   ]
  },
  {
   "cell_type": "code",
   "execution_count": null,
   "id": "48873dbf-4bcb-4844-9289-714b73ec6088",
   "metadata": {
    "tags": []
   },
   "outputs": [],
   "source": [
    "download_model_hf(data_folder='./data/google/flan-t5-small', model_id='google/flan-t5-small')"
   ]
  },
  {
   "cell_type": "code",
   "execution_count": null,
   "id": "873b5672-e0c5-4bcb-962d-4f32819b2053",
   "metadata": {
    "tags": []
   },
   "outputs": [],
   "source": [
    "convert(input_folder='./data/google/flan-t5-small', output_folder='./data/google/converted/flan-t5-small')"
   ]
  },
  {
   "cell_type": "code",
   "execution_count": 2,
   "id": "612ba741-6ce5-487d-b7bb-d922d4060148",
   "metadata": {
    "tags": []
   },
   "outputs": [
    {
     "name": "stdout",
     "output_type": "stream",
     "text": [
      "./data/google/converted/flan-t5-small/config.yml -> flan-t5-small/config.yml\n",
      "./data/google/converted/flan-t5-small/artifacts/tokenizer.json -> flan-t5-small/artifacts/tokenizer.json\n",
      "./data/google/converted/flan-t5-small/artifacts/config.json -> flan-t5-small/artifacts/config.json\n",
      "./data/google/converted/flan-t5-small/artifacts/generation_config.json -> flan-t5-small/artifacts/generation_config.json\n",
      "./data/google/converted/flan-t5-small/artifacts/model.safetensors -> flan-t5-small/artifacts/model.safetensors\n",
      "./data/google/converted/flan-t5-small/artifacts/vocab.txt -> flan-t5-small/artifacts/vocab.txt\n",
      "./data/google/converted/flan-t5-small/artifacts/special_tokens_map.json -> flan-t5-small/artifacts/special_tokens_map.json\n",
      "./data/google/converted/flan-t5-small/artifacts/tokenizer_config.json -> flan-t5-small/artifacts/tokenizer_config.json\n"
     ]
    }
   ],
   "source": [
    "upload_directory_to_s3(local_directory='./data/google/converted/flan-t5-small', s3_prefix='flan-t5-small')"
   ]
  },
  {
   "cell_type": "code",
   "execution_count": null,
   "id": "31c63dde-a2e5-4648-b362-a89edc371558",
   "metadata": {},
   "outputs": [],
   "source": []
  }
 ],
 "metadata": {
  "kernelspec": {
   "display_name": "Python 3.9",
   "language": "python",
   "name": "python3"
  },
  "language_info": {
   "codemirror_mode": {
    "name": "ipython",
    "version": 3
   },
   "file_extension": ".py",
   "mimetype": "text/x-python",
   "name": "python",
   "nbconvert_exporter": "python",
   "pygments_lexer": "ipython3",
   "version": "3.9.18"
  }
 },
 "nbformat": 4,
 "nbformat_minor": 5
}
