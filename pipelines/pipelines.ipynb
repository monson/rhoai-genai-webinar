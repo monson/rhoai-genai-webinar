{
 "cells": [
  {
   "cell_type": "code",
   "execution_count": 2,
   "id": "02bd9a01-ae76-455d-94c4-e66fb282b931",
   "metadata": {
    "tags": []
   },
   "outputs": [],
   "source": [
    "import requests\n",
    "\n",
    "\n",
    "def rest_request(data):\n",
    "    json_data = {\n",
    "        \"model_id\": model_id,\n",
    "        \"inputs\": data,\n",
    "    }\n",
    "\n",
    "    response = requests.post(infer_url, json=json_data, verify=False)\n",
    "    response_dict = response.json()\n",
    "    return response_dict[\"generated_text\"]\n",
    "\n",
    "\n",
    "def streaming_rest_request(data):\n",
    "    json_data = {\n",
    "        \"model_id\": model_id,\n",
    "        \"inputs\": data,\n",
    "    }\n",
    "\n",
    "    response = requests.post(infer_url, json=json_data, stream=True, verify=False)\n",
    "    response_tokens = []\n",
    "    for token in response.iter_lines():\n",
    "        # we could display each token to the user as it comes in, but for now, we'll just display at the end \n",
    "        decoded_token = token.decode(\"utf-8\")\n",
    "        response_tokens.append(decoded_token)\n",
    "\n",
    "    return response_tokens"
   ]
  },
  {
   "cell_type": "code",
   "execution_count": 3,
   "id": "729093ac-ed2e-43e9-bb3d-c28e46adab4f",
   "metadata": {
    "tags": []
   },
   "outputs": [],
   "source": [
    "model_id = \"flan-t5-small-caikit\"\n",
    "infer_endpoint = \"https://flan-pipelines-example.apps.cluster-lczcv.lczcv.sandbox628.opentlc.com\"\n",
    "infer_url = f\"{infer_endpoint}/api/v1/task/text-generation\"\n",
    "str_infer_url = f\"{infer_endpoint}/api/v1/task/server-streaming-text-generation\""
   ]
  },
  {
   "cell_type": "code",
   "execution_count": 7,
   "id": "686221a7-2606-44c1-ab4d-40699667fbf3",
   "metadata": {
    "tags": []
   },
   "outputs": [
    {
     "name": "stderr",
     "output_type": "stream",
     "text": [
      "/opt/app-root/lib64/python3.9/site-packages/urllib3/connectionpool.py:1061: InsecureRequestWarning: Unverified HTTPS request is being made to host 'flan-pipelines-example.apps.cluster-lczcv.lczcv.sandbox628.opentlc.com'. Adding certificate verification is strongly advised. See: https://urllib3.readthedocs.io/en/1.26.x/advanced-usage.html#ssl-warnings\n",
      "  warnings.warn(\n"
     ]
    },
    {
     "data": {
      "text/plain": [
       "'74 degrees F'"
      ]
     },
     "execution_count": 7,
     "metadata": {},
     "output_type": "execute_result"
    }
   ],
   "source": [
    "prediction = rest_request(\"At what temperature does liquid Nitrogen boil?\")\n",
    "prediction"
   ]
  },
  {
   "cell_type": "code",
   "execution_count": null,
   "id": "a36f985e-a19b-4ad5-b0eb-f703e60fad08",
   "metadata": {},
   "outputs": [],
   "source": []
  }
 ],
 "metadata": {
  "kernelspec": {
   "display_name": "Python 3.9",
   "language": "python",
   "name": "python3"
  },
  "language_info": {
   "codemirror_mode": {
    "name": "ipython",
    "version": 3
   },
   "file_extension": ".py",
   "mimetype": "text/x-python",
   "name": "python",
   "nbconvert_exporter": "python",
   "pygments_lexer": "ipython3",
   "version": "3.9.18"
  }
 },
 "nbformat": 4,
 "nbformat_minor": 5
}
